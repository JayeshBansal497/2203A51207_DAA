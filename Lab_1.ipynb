{
  "nbformat": 4,
  "nbformat_minor": 0,
  "metadata": {
    "colab": {
      "provenance": [],
      "authorship_tag": "ABX9TyNeGAdps06OIkwpz7JyiP9n",
      "include_colab_link": true
    },
    "kernelspec": {
      "name": "python3",
      "display_name": "Python 3"
    },
    "language_info": {
      "name": "python"
    }
  },
  "cells": [
    {
      "cell_type": "markdown",
      "metadata": {
        "id": "view-in-github",
        "colab_type": "text"
      },
      "source": [
        "<a href=\"https://colab.research.google.com/github/JayeshBansal497/2203A51207_DAA/blob/main/Lab_1.ipynb\" target=\"_parent\"><img src=\"https://colab.research.google.com/assets/colab-badge.svg\" alt=\"Open In Colab\"/></a>"
      ]
    },
    {
      "cell_type": "markdown",
      "source": [
        "# **Addition**"
      ],
      "metadata": {
        "id": "QmCiL5XBrhh1"
      }
    },
    {
      "cell_type": "code",
      "execution_count": 1,
      "metadata": {
        "colab": {
          "base_uri": "https://localhost:8080/"
        },
        "id": "JFesQVFlrTvw",
        "outputId": "c37f2196-c817-4834-c032-9822ec6bc68a"
      },
      "outputs": [
        {
          "output_type": "stream",
          "name": "stdout",
          "text": [
            "10 6 9 10 13 "
          ]
        }
      ],
      "source": [
        "a=[2,5,6,1,9]\n",
        "b=[8,1,3,9,4]\n",
        "for i in range(len(a)):\n",
        "  a[i]+=b[i]\n",
        "for i in range(len(b)):\n",
        "  print(a[i],end=\" \")"
      ]
    },
    {
      "cell_type": "markdown",
      "source": [
        "# **Addition Dynamically**"
      ],
      "metadata": {
        "id": "rt0nTGRsrmXL"
      }
    },
    {
      "cell_type": "code",
      "source": [
        "rows =int(input(\"\"))\n",
        "col= int(input(\"\"))\n",
        "a=[[0]*col]*rows\n",
        "b=[[0]*col]*rows\n",
        "for i in range(rows):\n",
        "  for j in range(col):\n",
        "    a[i][j]=int(input(\"\"))\n",
        "for i in range(rows):\n",
        "  for j in range(col):\n",
        "    b[i][j]=int(input(\"\"))\n",
        "for i in range(rows):\n",
        "  for i in range(col):\n",
        "    print(a[i][j]+b[i][j],end=\" \")\n",
        "  print()"
      ],
      "metadata": {
        "id": "RpBqpYLvrthW"
      },
      "execution_count": null,
      "outputs": []
    },
    {
      "cell_type": "markdown",
      "source": [
        "# **Addition Statically**"
      ],
      "metadata": {
        "id": "F4R6Uf1srvqo"
      }
    },
    {
      "cell_type": "code",
      "source": [
        "rows=col=2\n",
        "a=[[2,2],[2,2]]\n",
        "b=[[2,2],[2,2]]\n",
        "for i in range(rows):\n",
        "  for i in range(col):\n",
        "    print(a[i][j]+b[i][j],end=\" \")\n",
        "  print()"
      ],
      "metadata": {
        "id": "i0AzAl2or4XU"
      },
      "execution_count": null,
      "outputs": []
    },
    {
      "cell_type": "markdown",
      "source": [
        "# **Multiplication**"
      ],
      "metadata": {
        "id": "sgNubyIZr760"
      }
    },
    {
      "cell_type": "code",
      "source": [
        "rows =int(input(\"\"))\n",
        "col= int(input(\"\"))\n",
        "a=[[0]*col]*rows\n",
        "b=[[0]*col]*rows\n",
        "for i in range(rows):\n",
        "  for j in range(col):\n",
        "    a[i][j]=int(input(\"\"))\n",
        "for i in range(rows):\n",
        "  for j in range(col):\n",
        "    b[i][j]=int(input(\"\"))\n",
        "pro=[[0]*col]*rows\n",
        "\n",
        "for i in range(rows):\n",
        "  for j in range(col):\n",
        "    pro[i][j]+=a[i][j]*b[j][i]\n",
        "for i in range(rows):\n",
        "  for j in range(col):\n",
        "    print(pro[i][j],end=\" \")\n",
        "  print()"
      ],
      "metadata": {
        "id": "5HiqxmebsCfQ"
      },
      "execution_count": null,
      "outputs": []
    },
    {
      "cell_type": "markdown",
      "source": [
        "# **Multiplication Statically**"
      ],
      "metadata": {
        "id": "C8jW3_0csFlf"
      }
    },
    {
      "cell_type": "code",
      "source": [
        "rows=col=2\n",
        "a=[[2,2],[2,2]]\n",
        "b=[[2,2],[2,2]]\n",
        "pro=[[0]*col]*rows\n",
        "for i in range(rows):\n",
        "  for j in range(col):\n",
        "    pro[i][j]+=a[i][j]*b[j][i]\n",
        "for i in range(rows):\n",
        "  for j in range(col):\n",
        "    print(pro[i][j],end=\" \")\n",
        "  print()"
      ],
      "metadata": {
        "id": "B5kCTJJ8sKa8"
      },
      "execution_count": null,
      "outputs": []
    }
  ]
}