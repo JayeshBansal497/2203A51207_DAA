{
  "nbformat": 4,
  "nbformat_minor": 0,
  "metadata": {
    "colab": {
      "provenance": [],
      "authorship_tag": "ABX9TyPhi00R9wLZqCbZeQ+daihq",
      "include_colab_link": true
    },
    "kernelspec": {
      "name": "python3",
      "display_name": "Python 3"
    },
    "language_info": {
      "name": "python"
    }
  },
  "cells": [
    {
      "cell_type": "markdown",
      "metadata": {
        "id": "view-in-github",
        "colab_type": "text"
      },
      "source": [
        "<a href=\"https://colab.research.google.com/github/JayeshBansal497/2203A51207_DAA/blob/main/Lab_2.ipynb\" target=\"_parent\"><img src=\"https://colab.research.google.com/assets/colab-badge.svg\" alt=\"Open In Colab\"/></a>"
      ]
    },
    {
      "cell_type": "markdown",
      "source": [
        "# **SURESH**"
      ],
      "metadata": {
        "id": "D6TVQn51R-rX"
      }
    },
    {
      "cell_type": "markdown",
      "source": [
        "Q1. In an online bookstore, there are thousands of books available for purchase. The\n",
        "bookstore's website allows customers to search for books based on various criteria,\n",
        "such as title, author, publication date, and price. if a customer searches for books by\n",
        "a specific title and price, the program can arrange the search results by price, from\n",
        "low to high or vice versa, based on the customer's preference"
      ],
      "metadata": {
        "id": "8yiAxWgMUD-r"
      }
    },
    {
      "cell_type": "code",
      "execution_count": 7,
      "metadata": {
        "colab": {
          "base_uri": "https://localhost:8080/"
        },
        "id": "kBoIH18JQWnQ",
        "outputId": "ce086b6b-6def-4fa7-ff72-0664545df7c9"
      },
      "outputs": [
        {
          "output_type": "stream",
          "name": "stdout",
          "text": [
            "Writing Week1.c\n"
          ]
        }
      ],
      "source": [
        "%%writefile Week1.c\n",
        "#include<stdio.h>\n",
        "struct bookstore\n",
        "{\n",
        "    int price;\n",
        "    char title[20],author[20],date[10];\n",
        "};\n",
        "int main()\n",
        "{\n",
        "    int n;\n",
        "    scanf(\"%d\",&n);\n",
        "    struct bookstore books[n],temp;\n",
        "    for(int i=0;i<n;i++)\n",
        "    scanf(\"%s%s%s%d\",books[i].title,books[i].author,books[i].date,&books[i].price);\n",
        "    for(int i=0;i<n;i++)\n",
        "    {\n",
        "        for(int j=i+1;j<n;j++)\n",
        "        {\n",
        "            if(books[i].price>books[j].price)\n",
        "            {\n",
        "                temp=books[j];\n",
        "                books[j]=books[i];\n",
        "                books[i]=temp;\n",
        "            }\n",
        "        }\n",
        "    }\n",
        "    for(int i=0;i<n;i++)\n",
        "    printf(\"%s\\t%s\\t%s\\t%d\",books[i].title,books[i].author,books[i].date,books[i].price);\n",
        "\n",
        "    return 0;\n",
        "}"
      ]
    },
    {
      "cell_type": "code",
      "source": [
        "!g++ Week1.c -o suresh1\n",
        "!./suresh1"
      ],
      "metadata": {
        "colab": {
          "base_uri": "https://localhost:8080/"
        },
        "id": "_xto0Td2SnQB",
        "outputId": "fe1b7e64-3cdc-46b1-831f-65eea0f24f69"
      },
      "execution_count": 8,
      "outputs": [
        {
          "output_type": "stream",
          "name": "stdout",
          "text": [
            "4\n",
            "9\n",
            "2\n",
            "8\n",
            "5\n",
            "3\n",
            "9\n",
            "2\n",
            "8\n",
            "3\n",
            "8\n",
            "1\n",
            "9\n",
            "3\n",
            "2\n",
            "5\n",
            "2\n",
            "3\t2\t5\t29\t2\t8\t53\t9\t2\t83\t8\t1\t9"
          ]
        }
      ]
    },
    {
      "cell_type": "markdown",
      "source": [
        "Q2. Courier and logistics companies handle a massive volume of packages daily. These\n",
        "packages need to be efficiently sorted and routed to their destinations to ensure\n",
        "timely and accurate deliveries. Each package typically has a unique barcode that\n",
        "contains essential information like the recipient's address, delivery method, and\n",
        "tracking number. So, implement an application to arrange the packages based on\n",
        "tracking numbers."
      ],
      "metadata": {
        "id": "EC77MdOaUZi1"
      }
    },
    {
      "cell_type": "code",
      "source": [
        "%%writefile Week2.c\n",
        "#include<stdio.h>\n",
        "struct delivery\n",
        "{\n",
        "    int trackno;\n",
        "    char add[20],delivery[20];\n",
        "};\n",
        "int main()\n",
        "{\n",
        "    int n,temp;\n",
        "    scanf(\"%d\",&n);\n",
        "    struct delivery package[n],temp1;\n",
        "    for(int i=0;i<n;i++)\n",
        "    scanf(\"%s%s%d\",package[i].add,package[i].delivery,&package[i].trackno);\n",
        "    for(int i=0;i<n;i++)\n",
        "    {\n",
        "      temp=i;\n",
        "        for(int j=i+1;j<n;j++)\n",
        "        {\n",
        "            if(package[j].trackno<package[temp].trackno)\n",
        "            {\n",
        "                temp=j;\n",
        "            }\n",
        "        }\n",
        "          temp1=package[temp];\n",
        "          package[temp]=package[i];\n",
        "          package[i]=temp1;\n",
        "    }\n",
        "    for(int i=0;i<n;i++)\n",
        "    printf(\"%s\\t%s\\t%d\",package[i].add,package[i].delivery,package[i].trackno);\n",
        "\n",
        "    return 0;\n",
        "}"
      ],
      "metadata": {
        "colab": {
          "base_uri": "https://localhost:8080/"
        },
        "id": "0vKsJjX_UodK",
        "outputId": "70baa093-fda7-4c64-ba74-e7d4c0554f5d"
      },
      "execution_count": 9,
      "outputs": [
        {
          "output_type": "stream",
          "name": "stdout",
          "text": [
            "Writing Week2.c\n"
          ]
        }
      ]
    },
    {
      "cell_type": "code",
      "source": [
        "!g++ Week2.c -o suresh2\n",
        "!./suresh2"
      ],
      "metadata": {
        "colab": {
          "base_uri": "https://localhost:8080/"
        },
        "id": "SC3nOM2EVmOs",
        "outputId": "f0fd0fa5-2154-4a70-c4f4-7cd6039204a7"
      },
      "execution_count": 10,
      "outputs": [
        {
          "output_type": "stream",
          "name": "stdout",
          "text": [
            "4\n",
            "8\n",
            "3\n",
            "5\n",
            "9\n",
            "1\n",
            "3\n",
            "8\n",
            "2\n",
            "5\n",
            "9\n",
            "3\n",
            "0\n",
            "9\t3\t09\t1\t38\t2\t58\t3\t5"
          ]
        }
      ]
    },
    {
      "cell_type": "markdown",
      "source": [
        "Q3. Imagine you are working for a large online marketplace like Amazon or eBay. One\n",
        "of the critical functionalities of such platforms is to display products to customers in\n",
        "a way that is relevant, helpful, and easy to navigate. Customers can browse through\n",
        "thousands or even millions of products, and Many users prefer to see products sorted\n",
        "by price, either in ascending or descending order. This allows them to find the\n",
        "cheapest or most expensive products within their budget. So, implement an\n",
        "application to arrange the products based on price."
      ],
      "metadata": {
        "id": "dya0Bi0EVutp"
      }
    },
    {
      "cell_type": "code",
      "source": [
        "%%writefile Week3.c\n",
        "#include<stdio.h>\n",
        "int main()\n",
        "{\n",
        "    int n,j;\n",
        "    scanf(\"%d\",&n);\n",
        "    int price[n],temp;\n",
        "    for(int i=0;i<n;i++)\n",
        "    scanf(\"%d\",&price[i]);\n",
        "\n",
        "    for(int i=1;i<n;i++)\n",
        "    {\n",
        "        temp=price[i];\n",
        "        for(j=i-1;j>=0&&price[j]>temp;j--)\n",
        "        {\n",
        "            price[j+1]=price[j];\n",
        "        }\n",
        "        price[j+1]=temp;\n",
        "    }\n",
        "    for(int i=0;i<n;i++)\n",
        "    printf(\"%d\",price[i]);\n",
        "\n",
        "    return 0;\n",
        "}"
      ],
      "metadata": {
        "colab": {
          "base_uri": "https://localhost:8080/"
        },
        "id": "GyDvDZncV7YX",
        "outputId": "51961d69-2b55-437c-bd7f-934df1fb1aee"
      },
      "execution_count": null,
      "outputs": [
        {
          "output_type": "stream",
          "name": "stdout",
          "text": [
            "Overwriting Week3.c\n"
          ]
        }
      ]
    },
    {
      "cell_type": "code",
      "source": [
        "!g++ Week3.c -o suresh3\n",
        "!./suresh3"
      ],
      "metadata": {
        "colab": {
          "base_uri": "https://localhost:8080/"
        },
        "id": "3WYg9c8fWhWh",
        "outputId": "bc89cd8e-e161-4a5b-c7f5-ebb3e66faa39"
      },
      "execution_count": null,
      "outputs": [
        {
          "output_type": "stream",
          "name": "stdout",
          "text": [
            "4\n",
            "9\n",
            "2\n",
            "4\n",
            "1\n",
            "1249"
          ]
        }
      ]
    },
    {
      "cell_type": "markdown",
      "source": [
        "# **Neelima**"
      ],
      "metadata": {
        "id": "y-EI-TG8gVfM"
      }
    },
    {
      "cell_type": "markdown",
      "source": [
        "Q1. Imagine you work for a large logistics company that handles a high volume of\n",
        "package deliveries on a daily basis. The company's success hinges on ensuring that\n",
        "packages are delivered to their respective destinations efficiently and on time. To\n",
        "solve this problem, you create a program that can quickly process and classify\n",
        "packages based on their destination."
      ],
      "metadata": {
        "id": "PPorJTdLgYc0"
      }
    },
    {
      "cell_type": "code",
      "source": [
        "%%writefile Week1.cpp\n",
        "#include<iostream>\n",
        "using namespace std;\n",
        "int main()\n",
        "{\n",
        "    int n,temp;\n",
        "    cin>>n;\n",
        "    int time[n],temp1;\n",
        "    for(int i=0;i<n;i++)\n",
        "    cin>>time[i];\n",
        "    for(int i=0;i<n;i++)\n",
        "    {\n",
        "      temp=i;\n",
        "        for(int j=i+1;j<n;j++)\n",
        "        {\n",
        "            if(time[j]<time[temp])\n",
        "            {\n",
        "                temp=j;\n",
        "            }\n",
        "        }\n",
        "          temp1=time[temp];\n",
        "          time[temp]=time[i];\n",
        "          time[i]=temp1;\n",
        "    }\n",
        "    for(int i=0;i<n;i++)\n",
        "    cout<<time[i];\n",
        "\n",
        "    return 0;\n",
        "}"
      ],
      "metadata": {
        "colab": {
          "base_uri": "https://localhost:8080/"
        },
        "id": "Kr80-Q1CgXnI",
        "outputId": "82e21a44-87e3-4653-8e1e-0daf27717c52"
      },
      "execution_count": 13,
      "outputs": [
        {
          "output_type": "stream",
          "name": "stdout",
          "text": [
            "Overwriting Week1.cpp\n"
          ]
        }
      ]
    },
    {
      "cell_type": "code",
      "source": [
        "!g++ Week1.cpp -o neelima1\n",
        "!./neelima1"
      ],
      "metadata": {
        "colab": {
          "base_uri": "https://localhost:8080/"
        },
        "id": "zU7HmbL7hcka",
        "outputId": "e281cf0d-d3e9-4af9-e6b3-b61e81fe4cbd"
      },
      "execution_count": 14,
      "outputs": [
        {
          "output_type": "stream",
          "name": "stdout",
          "text": [
            "4\n",
            "6\n",
            "9\n",
            "2\n",
            "8\n",
            "2689"
          ]
        }
      ]
    },
    {
      "cell_type": "markdown",
      "source": [
        "Q2. Imagine you are working for a retail store that sells a wide variety of products. The\n",
        "store has a vast inventory with thousands of items, and it's becoming challenging for\n",
        "the employees to manage and locate products efficiently. Customers often ask for\n",
        "specific items, and employees need to find them quickly. The sorting program's\n",
        "primary goal is to organize the products in the inventory systematically, allowing for\n",
        "faster and easier access to items when needed.\n",
        "Implement an efficient sorting algorithm to arrange the products based on product\n",
        "IDs."
      ],
      "metadata": {
        "id": "v4zr8Lj9idqz"
      }
    },
    {
      "cell_type": "code",
      "source": [
        "%%writefile Week2.cpp\n",
        "#include<iostream>\n",
        "using namespace std;\n",
        "int main()\n",
        "{\n",
        "    int n,j;\n",
        "    cin>>n;\n",
        "    int id[n],temp;\n",
        "    for(int i=0;i<n;i++)\n",
        "    cin>>id[i];\n",
        "    for(int i=1;i<n;i++)\n",
        "    {\n",
        "        temp=id[i];\n",
        "        for(j=i-1;j>=0&&id[j]>temp;j--)\n",
        "        {\n",
        "            id[j+1]=id[j];\n",
        "        }\n",
        "        id[j+1]=temp;\n",
        "    }\n",
        "    for(int i=0;i<n;i++)\n",
        "    cout<<id[i];\n",
        "\n",
        "    return 0;\n",
        "}"
      ],
      "metadata": {
        "colab": {
          "base_uri": "https://localhost:8080/"
        },
        "id": "JT0fBlmcihP1",
        "outputId": "73e5f78a-8c25-4a27-a40b-831ec5b33742"
      },
      "execution_count": 17,
      "outputs": [
        {
          "output_type": "stream",
          "name": "stdout",
          "text": [
            "Overwriting Week2.cpp\n"
          ]
        }
      ]
    },
    {
      "cell_type": "code",
      "source": [
        "!g++ Week2.cpp -o neelima2\n",
        "!./neelima2"
      ],
      "metadata": {
        "colab": {
          "base_uri": "https://localhost:8080/"
        },
        "id": "U_Mr8iV1i9Wt",
        "outputId": "12c0e3f4-c4d2-4784-a672-637724e621c9"
      },
      "execution_count": 18,
      "outputs": [
        {
          "output_type": "stream",
          "name": "stdout",
          "text": [
            "4\n",
            "6\n",
            "3\n",
            "9\n",
            "2\n",
            "2369"
          ]
        }
      ]
    },
    {
      "cell_type": "markdown",
      "source": [
        "Q3. Imagine you're working for a large online marketplace company that facilitates the\n",
        "buying and selling of various products. As part of the order processing system, the\n",
        "company receives thousands of new orders every minute from customers all around\n",
        "the world. To ensure efficient and timely order fulfillment, the orders need to be\n",
        "sorted based on various criteria before they can be processed and shipped, Some customers may request advanced shipping or have urgent requirements.\n",
        "So, implement an application to arrange the Orders based on priority Number.\n"
      ],
      "metadata": {
        "id": "2Fsz-Eb6jIkt"
      }
    },
    {
      "cell_type": "code",
      "source": [
        "%%writefile Week3.cpp\n",
        "#include<iostream>\n",
        "using namespace std;\n",
        "int main()\n",
        "{\n",
        "    int n,temp;\n",
        "    cin>>n;\n",
        "    int priority[n];\n",
        "    for(int i=0;i<n;i++)\n",
        "    cin>>priority[i];\n",
        "    for(int i=0;i<n;i++)\n",
        "    {\n",
        "        for(int j=i+1;j<n;j++)\n",
        "        {\n",
        "            if(priority[i]>priority[j])\n",
        "            {\n",
        "                temp=priority[j];\n",
        "                priority[j]=priority[i];\n",
        "                priority[i]=temp;\n",
        "            }\n",
        "        }\n",
        "    }\n",
        "    for(int i=0;i<n;i++)\n",
        "    cout<<priority[i];\n",
        "\n",
        "    return 0;\n",
        "}"
      ],
      "metadata": {
        "colab": {
          "base_uri": "https://localhost:8080/"
        },
        "id": "XKiBEkd-jNWp",
        "outputId": "0ab09db0-96eb-45a9-e191-8064f655f658"
      },
      "execution_count": 22,
      "outputs": [
        {
          "output_type": "stream",
          "name": "stdout",
          "text": [
            "Overwriting Week3.cpp\n"
          ]
        }
      ]
    },
    {
      "cell_type": "code",
      "source": [
        "!g++ Week3.cpp -o neelima3\n",
        "!./neelima3"
      ],
      "metadata": {
        "colab": {
          "base_uri": "https://localhost:8080/"
        },
        "id": "AvB51tvpkJ7s",
        "outputId": "5a7a77dd-9b6a-4172-e2fb-c39ad056f7e7"
      },
      "execution_count": 23,
      "outputs": [
        {
          "output_type": "stream",
          "name": "stdout",
          "text": [
            "4\n",
            "8\n",
            "2\n",
            "4\n",
            "9\n",
            "2489"
          ]
        }
      ]
    },
    {
      "cell_type": "markdown",
      "source": [
        "# **Johnson**"
      ],
      "metadata": {
        "id": "iKYJeOPdlAVw"
      }
    },
    {
      "cell_type": "markdown",
      "source": [
        "Q1. Imagine you work for a large logistics company that handles a high volume of\n",
        "package deliveries on a daily basis. The company's success hinges on ensuring that\n",
        "packages are delivered to their respective destinations efficiently and on time. To\n",
        "solve this problem, you create a program that can quickly process and classify\n",
        "packages based on their destination."
      ],
      "metadata": {
        "id": "P2UpOJDXlI6j"
      }
    },
    {
      "cell_type": "code",
      "source": [
        "8a=[]\n",
        "n=int(input())\n",
        "for i in range(n):\n",
        "  l=[]\n",
        "  l.append(input(\"Enter name:\"))\n",
        "  l.append(input(\"Enter Delivery:\"))\n",
        "  l.append(int(input(\"Enter time:\")))\n",
        "  a.append(l)\n",
        "for i in range(n):\n",
        "  for j in range(i+1,n):\n",
        "    if a[i][2]>a[j][2]:\n",
        "      a[j],a[i]=a[i],a[j]\n",
        "print(*a)"
      ],
      "metadata": {
        "colab": {
          "base_uri": "https://localhost:8080/"
        },
        "id": "Q-t9FlmclHNe",
        "outputId": "975a3b0d-b1f4-4edc-f403-c8a5ff8cf73e"
      },
      "execution_count": 30,
      "outputs": [
        {
          "output_type": "stream",
          "name": "stdout",
          "text": [
            "3\n",
            "Enter namea\n",
            "Enter Deliveryb\n",
            "Enter time5\n",
            "Enter namec\n",
            "Enter Deliveryd\n",
            "Enter time8\n",
            "Enter namee\n",
            "Enter Deliveryt\n",
            "Enter time2\n",
            "['e', 't', 2] ['a', 'b', 5] ['c', 'd', 8]\n"
          ]
        }
      ]
    },
    {
      "cell_type": "markdown",
      "source": [
        "Q2. Imagine you are working for a retail store that sells a wide variety of products. The\n",
        "store has a vast inventory with thousands of items, and it's becoming challenging for\n",
        "the employees to manage and locate products efficiently. Customers often ask for\n",
        "specific items, and employees need to find them quickly. The sorting program's\n",
        "primary goal is to organize the products in the inventory systematically, allowing for\n",
        "faster and easier access to items when needed.\n",
        "Implement an efficient sorting algorithm to arrange the products based on product\n",
        "IDs"
      ],
      "metadata": {
        "id": "7Vq5ym0onGTm"
      }
    },
    {
      "cell_type": "code",
      "source": [
        "a=[]\n",
        "n=int(input())\n",
        "for i in range(n):\n",
        "  l=[]\n",
        "  l.append(input(\"Enter Product Name:\"))\n",
        "  l.append(int(input(\"Enter Product id:\")))\n",
        "  a.append(l)\n",
        "for i in range(1,n):\n",
        "  temp=a[i]\n",
        "  j=i-1\n",
        "  while j>=0 and a[j][1]>temp[1]:\n",
        "    a[j+1]=a[j]\n",
        "    j-=1\n",
        "  a[j+1]=temp\n",
        "print(*a)"
      ],
      "metadata": {
        "colab": {
          "base_uri": "https://localhost:8080/"
        },
        "id": "tD_nUhuLnMBW",
        "outputId": "22a8022f-0400-44b6-95b8-e8e2d729b021"
      },
      "execution_count": 37,
      "outputs": [
        {
          "output_type": "stream",
          "name": "stdout",
          "text": [
            "4\n",
            "Enter Product Name:f\n",
            "Enter Product id:4\n",
            "Enter Product Name:h\n",
            "Enter Product id:8\n",
            "Enter Product Name:s\n",
            "Enter Product id:6\n",
            "Enter Product Name:b\n",
            "Enter Product id:2\n",
            "['b', 2] ['f', 4] ['s', 6] ['h', 8]\n"
          ]
        }
      ]
    },
    {
      "cell_type": "markdown",
      "source": [
        "Q3. Imagine you're working for a large online marketplace company that facilitates the\n",
        "buying and selling of various products. As part of the order processing system, the\n",
        "company receives thousands of new orders every minute from customers all around\n",
        "the world. To ensure efficient and timely order fulfillment, the orders need to be\n",
        "sorted based on various criteria before they can be processed and shipped.\n",
        "Some customers may request advanced shipping or have urgent requirements.\n",
        "So, implement an application to arrange the Orders based on priority Number."
      ],
      "metadata": {
        "id": "K_DiJdgAnM3d"
      }
    },
    {
      "cell_type": "code",
      "source": [
        "a=[]\n",
        "n=int(input())\n",
        "for i in range(n):\n",
        "  a.append(int(input('Enter priority')))\n",
        "for i in range(n):\n",
        "  temp=i;\n",
        "  for j in range(i+1,n):\n",
        "    if a[j]<a[temp]:\n",
        "      temp=j\n",
        "  a[temp],a[i]=a[i],a[temp]\n",
        "print(*a)\n"
      ],
      "metadata": {
        "colab": {
          "base_uri": "https://localhost:8080/"
        },
        "id": "R7pe-V2XnNIL",
        "outputId": "1d34cb78-c20a-4425-f4b2-9843e1990f1c"
      },
      "execution_count": 34,
      "outputs": [
        {
          "output_type": "stream",
          "name": "stdout",
          "text": [
            "4\n",
            "Enter priority8\n",
            "Enter priority2\n",
            "Enter priority5\n",
            "Enter priority3\n",
            "2 3 5 8\n"
          ]
        }
      ]
    }
  ]
}